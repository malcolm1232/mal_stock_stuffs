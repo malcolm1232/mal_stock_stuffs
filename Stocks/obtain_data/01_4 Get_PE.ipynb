{
 "cells": [
  {
   "cell_type": "markdown",
   "id": "c8b2507b",
   "metadata": {},
   "source": [
    "# Template to get PE Ratio from Yahoo Finance"
   ]
  },
  {
   "cell_type": "code",
   "execution_count": 22,
   "id": "9d364886",
   "metadata": {},
   "outputs": [],
   "source": [
    "import requests\n",
    "import bs4 as bs\n",
    "import pandas as pd"
   ]
  },
  {
   "cell_type": "code",
   "execution_count": 24,
   "id": "1c43ad14",
   "metadata": {},
   "outputs": [],
   "source": []
  },
  {
   "cell_type": "code",
   "execution_count": 25,
   "id": "d30e5780",
   "metadata": {},
   "outputs": [
    {
     "name": "stdout",
     "output_type": "stream",
     "text": [
      "31.07\n",
      "1 / 2 done, [AAPL] PE: 31.07\n",
      "37.32\n",
      "2 / 2 done, [V] PE: 37.32\n"
     ]
    },
    {
     "data": {
      "text/html": [
       "<div>\n",
       "<style scoped>\n",
       "    .dataframe tbody tr th:only-of-type {\n",
       "        vertical-align: middle;\n",
       "    }\n",
       "\n",
       "    .dataframe tbody tr th {\n",
       "        vertical-align: top;\n",
       "    }\n",
       "\n",
       "    .dataframe thead th {\n",
       "        text-align: right;\n",
       "    }\n",
       "</style>\n",
       "<table border=\"1\" class=\"dataframe\">\n",
       "  <thead>\n",
       "    <tr style=\"text-align: right;\">\n",
       "      <th></th>\n",
       "      <th>PE</th>\n",
       "    </tr>\n",
       "  </thead>\n",
       "  <tbody>\n",
       "    <tr>\n",
       "      <th>0</th>\n",
       "      <td>31.07</td>\n",
       "    </tr>\n",
       "    <tr>\n",
       "      <th>1</th>\n",
       "      <td>37.32</td>\n",
       "    </tr>\n",
       "  </tbody>\n",
       "</table>\n",
       "</div>"
      ],
      "text/plain": [
       "      PE\n",
       "0  31.07\n",
       "1  37.32"
      ]
     },
     "execution_count": 25,
     "metadata": {},
     "output_type": "execute_result"
    }
   ],
   "source": [
    "tickerlist = ['AAPL','V']\n",
    "\n",
    "from urllib.request import Request, urlopen\n",
    "import requests\n",
    "import bs4 as bs\n",
    "import pandas as pd\n",
    "\n",
    "def get_soup(url):\n",
    "    req = Request(url, headers={'User-Agent': 'Mozilla/5.0'})\n",
    "    web_byte = urlopen(req).read()\n",
    "    html_doc = web_byte.decode('utf-8')\n",
    "    soup = bs.BeautifulSoup(html_doc, 'html.parser')\n",
    "    return soup\n",
    "\n",
    "PE_list = []\n",
    "able_list = []\n",
    "unable_list = []\n",
    "for count, ticker in enumerate(tickerlist):#shorten\n",
    "    count+=1\n",
    "    try:\n",
    "        url = 'https://finance.yahoo.com/quote/{}/'.format(ticker)\n",
    "        soup=get_soup(url)\n",
    "        for i in soup.findAll('td',{'data-test':\"PE_RATIO-value\"}):\n",
    "            PE = i.text\n",
    "#             print(PE)\n",
    "        PE_list.append(PE)\n",
    "        able_list.append(PE)\n",
    "        print('{} / {} done, [{}] PE: {}'.format(count, len(tickerlist), ticker, PE))\n",
    "    except:\n",
    "        unable_list.append(PE)\n",
    "        able_list.append(ticker)\n",
    "        print('{} / {} Unable, [{}] PE: {}'.format(count, len(tickerlist), ticker, PE))\n",
    "        pass\n",
    "df_PE_list = pd.DataFrame(PE_list, columns=['PE'])\n",
    "df_PE_list"
   ]
  },
  {
   "cell_type": "code",
   "execution_count": 26,
   "id": "03ecef67",
   "metadata": {},
   "outputs": [
    {
     "data": {
      "text/plain": [
       "['31.07', '37.32']"
      ]
     },
     "execution_count": 26,
     "metadata": {},
     "output_type": "execute_result"
    }
   ],
   "source": [
    "PE_list"
   ]
  },
  {
   "cell_type": "code",
   "execution_count": null,
   "id": "b2da71e8",
   "metadata": {},
   "outputs": [],
   "source": []
  },
  {
   "cell_type": "markdown",
   "id": "5727e82b",
   "metadata": {},
   "source": []
  }
 ],
 "metadata": {
  "kernelspec": {
   "display_name": "Python 3 (ipykernel)",
   "language": "python",
   "name": "python3"
  },
  "language_info": {
   "codemirror_mode": {
    "name": "ipython",
    "version": 3
   },
   "file_extension": ".py",
   "mimetype": "text/x-python",
   "name": "python",
   "nbconvert_exporter": "python",
   "pygments_lexer": "ipython3",
   "version": "3.9.7"
  }
 },
 "nbformat": 4,
 "nbformat_minor": 5
}
