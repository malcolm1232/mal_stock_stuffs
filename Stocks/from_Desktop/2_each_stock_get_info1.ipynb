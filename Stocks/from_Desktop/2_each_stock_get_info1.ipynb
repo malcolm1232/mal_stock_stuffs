{
 "cells": [
  {
   "cell_type": "code",
   "execution_count": 7,
   "metadata": {},
   "outputs": [],
   "source": [
    "import pandas as pd\n",
    "import numpy as np\n",
    "import os\n",
    "path = './ticker_data/ticker_data_2021-09-25_short/'\n",
    "df = pd.read_csv('./ticker_data/ticker_data_2021-09-25_short/AACG_ended_2021-09-25.csv')\n",
    "\n"
   ]
  },
  {
   "cell_type": "code",
   "execution_count": 8,
   "metadata": {},
   "outputs": [
    {
     "name": "stdout",
     "output_type": "stream",
     "text": [
      "AACG_ended_2021-09-25.csv\n",
      "         Date  Open   High   Low  Close  Adj Close   Volume\n",
      "0  2008-01-29  9.50   9.99  8.57   8.75   0.088974  1489000\n",
      "1  2008-01-30  8.75   9.15  8.30   8.50   0.086432   219000\n",
      "2  2008-01-31  8.49  10.30  8.49   9.55   0.097109   182300\n",
      "3  2008-02-01  9.93   9.94  9.50   9.51   0.096702    28200\n",
      "4  2008-02-04  9.50   9.71  9.50   9.50   0.096601     8300\n",
      "AACQU_ended_2021-09-25.csv\n",
      "Empty DataFrame\n",
      "Columns: [Date, Open, High, Low, Close, Adj Close, Volume]\n",
      "Index: []\n"
     ]
    }
   ],
   "source": [
    "for i in os.listdir(path)[:2]:#shorten\n",
    "    print(i)\n",
    "    df = pd.read_csv(path+i)\n",
    "    print(df.head())\n",
    "    "
   ]
  },
  {
   "cell_type": "code",
   "execution_count": 9,
   "metadata": {},
   "outputs": [],
   "source": [
    "#create max column\n",
    "def get_minmax():\n",
    "    maxall = df['High'].max()\n",
    "    minall = df['Low'].min()\n",
    "    return minall, maxall\n"
   ]
  },
  {
   "cell_type": "code",
   "execution_count": 10,
   "metadata": {},
   "outputs": [
    {
     "name": "stdout",
     "output_type": "stream",
     "text": [
      "Empty DataFrame\n",
      "Columns: [Date, Open, High, Low, Close, Adj Close, Volume]\n",
      "Index: []\n"
     ]
    }
   ],
   "source": [
    "print(df)"
   ]
  },
  {
   "cell_type": "code",
   "execution_count": 12,
   "metadata": {},
   "outputs": [
    {
     "name": "stdout",
     "output_type": "stream",
     "text": [
      "threshold: [0.1, 0.2, 0.30000000000000004, 0.4, 0.5, 0.6, 0.7000000000000001, 0.8, 0.9, 1.0]\n",
      "value: nan\n",
      "value: nan\n",
      "value: nan\n",
      "value: nan\n",
      "value: nan\n",
      "value: nan\n",
      "value: nan\n",
      "value: nan\n",
      "value: nan\n",
      "value: nan\n",
      "  stock current_price minall maxall each_markup markup_10 markup_20 markup_30  \\\n",
      "0     a          2.77    NaN    NaN         NaN       NaN       NaN       NaN   \n",
      "\n",
      "  markup_40 markup_50 markup_60 markup_70 markup_80 markup_90 markup_100  \n",
      "0       NaN       NaN       NaN       NaN       NaN       NaN        NaN  \n"
     ]
    }
   ],
   "source": [
    "#get 20%, 40%, 60%, 80%, 100% markup from minimum\n",
    "df_csv = pd.read_csv('./ticker_data/ticker_data_2021-09-25_short/AACG_ended_2021-09-25.csv')\n",
    "maxall = df['High'].max()\n",
    "minall = df['Low'].min()\n",
    "\n",
    "threshold = list(np.arange(.1,1.1,.1))\n",
    "print('threshold:',threshold)\n",
    "diff = maxall - minall\n",
    "\n",
    "em = [] #to contain all threshold values; markup from min to max by 10%\n",
    "em.append('a')\n",
    "em.append(df_csv['Adj Close'].to_list()[-1])\n",
    "em.append(minall)\n",
    "em.append(maxall)\n",
    "em.append(diff*.1)\n",
    "\n",
    "for threshold_ in threshold:\n",
    "    value = threshold_ * diff\n",
    "    print('value:', value)\n",
    "    value += minall\n",
    "    em.append(value)\n",
    "df_em = pd.DataFrame(em).T\n",
    "\n",
    "df_basic = pd.DataFrame()\n",
    "df = pd.concat([df_basic, df_em], axis=0)\n",
    "\n",
    "\n",
    "\n",
    "df.columns = ['stock','current_price','minall','maxall','each_markup','markup_10','markup_20','markup_30','markup_40',\n",
    "                    'markup_50','markup_60','markup_70','markup_80','markup_90','markup_100']\n",
    "\n",
    "# df.index = ['a']\n",
    "print(df)\n",
    "\n",
    "\n"
   ]
  },
  {
   "cell_type": "code",
   "execution_count": 91,
   "metadata": {},
   "outputs": [
    {
     "name": "stdout",
     "output_type": "stream",
     "text": [
      "118.2959976196289\n"
     ]
    }
   ],
   "source": [
    "print(df_csv['Adj Close'].to_list()[-1])"
   ]
  },
  {
   "cell_type": "code",
   "execution_count": 92,
   "metadata": {},
   "outputs": [
    {
     "name": "stdout",
     "output_type": "stream",
     "text": [
      "  stock current_price   minall  maxall each_markup markup_10 markup_20  \\\n",
      "0     a       118.296  7.51073  120.24     11.2729   18.7837   30.0566   \n",
      "\n",
      "  markup_30 markup_40 markup_50 markup_60 markup_70 markup_80 markup_90  \\\n",
      "0   41.3295   52.6024   63.8754   75.1483   86.4212   97.6941   108.967   \n",
      "\n",
      "  markup_100  \n",
      "0     120.24  \n",
      "RangeIndex(start=0, stop=1, step=1)\n"
     ]
    },
    {
     "name": "stderr",
     "output_type": "stream",
     "text": [
      "c:\\users\\malco\\appdata\\local\\programs\\python\\python36\\lib\\site-packages\\pandas\\core\\indexes\\base.py:111: FutureWarning: elementwise comparison failed; returning scalar instead, but in the future will perform elementwise comparison\n",
      "  result = op(self.values, np.asarray(other))\n"
     ]
    }
   ],
   "source": [
    "print(df)\n",
    "print(df.index)\n",
    "if df.index =='a':\n",
    "    print('yes')"
   ]
  },
  {
   "cell_type": "code",
   "execution_count": 107,
   "metadata": {},
   "outputs": [],
   "source": [
    "#check if current price is within 10% etc.\n",
    "def threshold():\n",
    "    price = df.loc[0,'current_price']\n",
    "    markup_10 = df.loc[0, 'markup_10']\n",
    "    markup_20 = df.loc[0, 'markup_20']\n",
    "    min_all = df.loc[0, 'minall']\n",
    "    if min_all < price < markup_10:\n",
    "        print('yes')\n",
    "threshold()"
   ]
  },
  {
   "cell_type": "code",
   "execution_count": null,
   "metadata": {},
   "outputs": [],
   "source": [
    "#get 20%, 40%, 60%, 80%, 100% markup from minimum\n",
    "df_csv = pd.read_csv('C:/Users/malco/Desktop/Server Data 2/all stock price/a.csv')\n",
    "\n",
    "threshold = list(np.arange(.1,1.1,.1))\n",
    "print('threshold:',threshold)\n",
    "diff = maxall - minall\n",
    "\n",
    "em = [] #to contain all threshold values; markup from min to max by 10%\n",
    "em.append('a')\n",
    "em.append(df_csv['Adj Close'].to_list()[-1])\n",
    "em.append(minall)\n",
    "em.append(maxall)\n",
    "em.append(diff*.1)\n",
    "\n",
    "for threshold_ in threshold:\n",
    "    value = threshold_ * diff\n",
    "    print('value:', value)\n",
    "    value += minall\n",
    "    em.append(value)\n",
    "df_em = pd.DataFrame(em).T\n",
    "\n",
    "df_basic = pd.DataFrame()\n",
    "df = pd.concat([df_basic, df_em], axis=0)\n",
    "\n",
    "\n",
    "\n",
    "df.columns = ['stock','current_price','minall','maxall','each_markup','markup_10','markup_20','markup_30','markup_40',\n",
    "                    'markup_50','markup_60','markup_70','markup_80','markup_90','markup_100']\n",
    "\n",
    "# df.index = ['a']\n",
    "print(df)\n",
    "\n",
    "\n"
   ]
  },
  {
   "cell_type": "code",
   "execution_count": null,
   "metadata": {},
   "outputs": [],
   "source": []
  },
  {
   "cell_type": "code",
   "execution_count": null,
   "metadata": {},
   "outputs": [],
   "source": []
  },
  {
   "cell_type": "code",
   "execution_count": null,
   "metadata": {},
   "outputs": [],
   "source": []
  }
 ],
 "metadata": {
  "kernelspec": {
   "display_name": "Python 3",
   "language": "python",
   "name": "python3"
  },
  "language_info": {
   "codemirror_mode": {
    "name": "ipython",
    "version": 3
   },
   "file_extension": ".py",
   "mimetype": "text/x-python",
   "name": "python",
   "nbconvert_exporter": "python",
   "pygments_lexer": "ipython3",
   "version": "3.6.8"
  }
 },
 "nbformat": 4,
 "nbformat_minor": 2
}
