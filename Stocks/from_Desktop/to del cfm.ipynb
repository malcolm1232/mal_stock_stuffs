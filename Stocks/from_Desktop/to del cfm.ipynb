{
 "cells": [
  {
   "cell_type": "code",
   "execution_count": 13,
   "metadata": {},
   "outputs": [],
   "source": [
    "import bs4 as bs\n",
    "import pandas as pd\n",
    "import numpy as np\n",
    "import requests\n",
    "import matplotlib.pyplot as plt\n",
    "import yfinance as yf"
   ]
  },
  {
   "cell_type": "code",
   "execution_count": 14,
   "metadata": {},
   "outputs": [
    {
     "name": "stdout",
     "output_type": "stream",
     "text": [
      "[*********************100%***********************]  1 of 1 completed\n"
     ]
    }
   ],
   "source": [
    "ticker = 'AAPL'\n",
    "data = yf.download(ticker, period = \"60d\",\n",
    "                   interval = \"2m\",\n",
    "                   auto_adjust = True,\n",
    "                   prepost = True,\n",
    "                   threads = True)"
   ]
  },
  {
   "cell_type": "code",
   "execution_count": 18,
   "metadata": {
    "scrolled": false
   },
   "outputs": [
    {
     "data": {
      "text/html": [
       "<div>\n",
       "<style scoped>\n",
       "    .dataframe tbody tr th:only-of-type {\n",
       "        vertical-align: middle;\n",
       "    }\n",
       "\n",
       "    .dataframe tbody tr th {\n",
       "        vertical-align: top;\n",
       "    }\n",
       "\n",
       "    .dataframe thead th {\n",
       "        text-align: right;\n",
       "    }\n",
       "</style>\n",
       "<table border=\"1\" class=\"dataframe\">\n",
       "  <thead>\n",
       "    <tr style=\"text-align: right;\">\n",
       "      <th></th>\n",
       "      <th>Open</th>\n",
       "      <th>High</th>\n",
       "      <th>Low</th>\n",
       "      <th>Close</th>\n",
       "      <th>Volume</th>\n",
       "    </tr>\n",
       "    <tr>\n",
       "      <th>Datetime</th>\n",
       "      <th></th>\n",
       "      <th></th>\n",
       "      <th></th>\n",
       "      <th></th>\n",
       "      <th></th>\n",
       "    </tr>\n",
       "  </thead>\n",
       "  <tbody>\n",
       "    <tr>\n",
       "      <th>2021-05-14 04:00:00-04:00</th>\n",
       "      <td>126.09</td>\n",
       "      <td>126.23</td>\n",
       "      <td>125.63</td>\n",
       "      <td>125.93</td>\n",
       "      <td>0.0</td>\n",
       "    </tr>\n",
       "    <tr>\n",
       "      <th>2021-05-14 04:02:00-04:00</th>\n",
       "      <td>125.93</td>\n",
       "      <td>126.07</td>\n",
       "      <td>125.93</td>\n",
       "      <td>125.97</td>\n",
       "      <td>0.0</td>\n",
       "    </tr>\n",
       "    <tr>\n",
       "      <th>2021-05-14 04:04:00-04:00</th>\n",
       "      <td>126.00</td>\n",
       "      <td>126.04</td>\n",
       "      <td>125.99</td>\n",
       "      <td>126.04</td>\n",
       "      <td>0.0</td>\n",
       "    </tr>\n",
       "    <tr>\n",
       "      <th>2021-05-14 04:06:00-04:00</th>\n",
       "      <td>126.04</td>\n",
       "      <td>126.18</td>\n",
       "      <td>126.01</td>\n",
       "      <td>126.18</td>\n",
       "      <td>0.0</td>\n",
       "    </tr>\n",
       "    <tr>\n",
       "      <th>2021-05-14 04:08:00-04:00</th>\n",
       "      <td>126.12</td>\n",
       "      <td>126.17</td>\n",
       "      <td>126.06</td>\n",
       "      <td>126.12</td>\n",
       "      <td>0.0</td>\n",
       "    </tr>\n",
       "    <tr>\n",
       "      <th>...</th>\n",
       "      <td>...</td>\n",
       "      <td>...</td>\n",
       "      <td>...</td>\n",
       "      <td>...</td>\n",
       "      <td>...</td>\n",
       "    </tr>\n",
       "    <tr>\n",
       "      <th>2021-07-01 19:50:00-04:00</th>\n",
       "      <td>137.19</td>\n",
       "      <td>137.19</td>\n",
       "      <td>137.18</td>\n",
       "      <td>137.18</td>\n",
       "      <td>0.0</td>\n",
       "    </tr>\n",
       "    <tr>\n",
       "      <th>2021-07-01 19:52:00-04:00</th>\n",
       "      <td>137.17</td>\n",
       "      <td>137.18</td>\n",
       "      <td>137.16</td>\n",
       "      <td>137.18</td>\n",
       "      <td>0.0</td>\n",
       "    </tr>\n",
       "    <tr>\n",
       "      <th>2021-07-01 19:54:00-04:00</th>\n",
       "      <td>137.16</td>\n",
       "      <td>137.16</td>\n",
       "      <td>137.15</td>\n",
       "      <td>137.15</td>\n",
       "      <td>0.0</td>\n",
       "    </tr>\n",
       "    <tr>\n",
       "      <th>2021-07-01 19:56:00-04:00</th>\n",
       "      <td>137.15</td>\n",
       "      <td>137.16</td>\n",
       "      <td>137.13</td>\n",
       "      <td>137.16</td>\n",
       "      <td>0.0</td>\n",
       "    </tr>\n",
       "    <tr>\n",
       "      <th>2021-07-01 19:58:00-04:00</th>\n",
       "      <td>137.15</td>\n",
       "      <td>137.15</td>\n",
       "      <td>137.10</td>\n",
       "      <td>137.11</td>\n",
       "      <td>0.0</td>\n",
       "    </tr>\n",
       "  </tbody>\n",
       "</table>\n",
       "<p>16268 rows × 5 columns</p>\n",
       "</div>"
      ],
      "text/plain": [
       "                             Open    High     Low   Close  Volume\n",
       "Datetime                                                         \n",
       "2021-05-14 04:00:00-04:00  126.09  126.23  125.63  125.93     0.0\n",
       "2021-05-14 04:02:00-04:00  125.93  126.07  125.93  125.97     0.0\n",
       "2021-05-14 04:04:00-04:00  126.00  126.04  125.99  126.04     0.0\n",
       "2021-05-14 04:06:00-04:00  126.04  126.18  126.01  126.18     0.0\n",
       "2021-05-14 04:08:00-04:00  126.12  126.17  126.06  126.12     0.0\n",
       "...                           ...     ...     ...     ...     ...\n",
       "2021-07-01 19:50:00-04:00  137.19  137.19  137.18  137.18     0.0\n",
       "2021-07-01 19:52:00-04:00  137.17  137.18  137.16  137.18     0.0\n",
       "2021-07-01 19:54:00-04:00  137.16  137.16  137.15  137.15     0.0\n",
       "2021-07-01 19:56:00-04:00  137.15  137.16  137.13  137.16     0.0\n",
       "2021-07-01 19:58:00-04:00  137.15  137.15  137.10  137.11     0.0\n",
       "\n",
       "[16268 rows x 5 columns]"
      ]
     },
     "execution_count": 18,
     "metadata": {},
     "output_type": "execute_result"
    }
   ],
   "source": [
    "data.to_csv('AAPL-2min_orig.csv')\n",
    "df = data.copy()\n",
    "df = df[1:]\n",
    "df"
   ]
  },
  {
   "cell_type": "markdown",
   "metadata": {},
   "source": [
    "# Only want 2 states\n"
   ]
  },
  {
   "cell_type": "code",
   "execution_count": 21,
   "metadata": {},
   "outputs": [],
   "source": [
    "df1 = df.iloc[:,3]\n",
    "df1.to_csv('AAPL-2min_close.csv')\n"
   ]
  },
  {
   "cell_type": "code",
   "execution_count": 17,
   "metadata": {},
   "outputs": [
    {
     "data": {
      "image/png": "[encoded data removed]",
      "text/plain": [
       "<Figure size 432x288 with 1 Axes>"
      ]
     },
     "metadata": {
      "needs_background": "light"
     },
     "output_type": "display_data"
    }
   ],
   "source": [
    "plt.plot(df['Open'])\n",
    "plt.plot(df['High'])\n",
    "\n",
    "plt.show()"
   ]
  },
  {
   "cell_type": "code",
   "execution_count": null,
   "metadata": {},
   "outputs": [],
   "source": []
  },
  {
   "cell_type": "code",
   "execution_count": null,
   "metadata": {},
   "outputs": [],
   "source": []
  },
  {
   "cell_type": "code",
   "execution_count": null,
   "metadata": {},
   "outputs": [],
   "source": []
  },
  {
   "cell_type": "code",
   "execution_count": null,
   "metadata": {},
   "outputs": [],
   "source": []
  },
  {
   "cell_type": "code",
   "execution_count": null,
   "metadata": {},
   "outputs": [],
   "source": []
  },
  {
   "cell_type": "code",
   "execution_count": null,
   "metadata": {},
   "outputs": [],
   "source": []
  },
  {
   "cell_type": "code",
   "execution_count": null,
   "metadata": {},
   "outputs": [],
   "source": []
  },
  {
   "cell_type": "code",
   "execution_count": null,
   "metadata": {},
   "outputs": [],
   "source": []
  }
 ],
 "metadata": {
  "kernelspec": {
   "display_name": "Python 3 (ipykernel)",
   "language": "python",
   "name": "python3"
  },
  "language_info": {
   "codemirror_mode": {
    "name": "ipython",
    "version": 3
   },
   "file_extension": ".py",
   "mimetype": "text/x-python",
   "name": "python",
   "nbconvert_exporter": "python",
   "pygments_lexer": "ipython3",
   "version": "3.9.7"
  }
 },
 "nbformat": 4,
 "nbformat_minor": 4
}
