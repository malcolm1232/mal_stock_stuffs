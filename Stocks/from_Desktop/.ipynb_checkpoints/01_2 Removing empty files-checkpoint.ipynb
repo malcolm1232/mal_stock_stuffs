{
 "cells": [
  {
   "cell_type": "code",
   "execution_count": 2,
   "metadata": {},
   "outputs": [],
   "source": [
    "import os\n"
   ]
  },
  {
   "cell_type": "code",
   "execution_count": 3,
   "metadata": {
    "scrolled": true
   },
   "outputs": [
    {
     "name": "stdout",
     "output_type": "stream",
     "text": [
      "ALTG^A_ended_2021-12-10.csv\n",
      "43\n",
      "ITS 1!\n",
      "REMOVED!\n",
      "ALUS_ended_2021-12-10.csv\n",
      "43\n",
      "ITS 1!\n",
      "REMOVED!\n",
      "ALV_ended_2021-12-10.csv\n",
      "606571\n",
      "ALX_ended_2021-12-10.csv\n",
      "517104\n",
      "AMBC_ended_2021-12-10.csv\n",
      "236485\n",
      "AMCR_ended_2021-12-10.csv\n",
      "249769\n",
      "AMC_ended_2021-12-10.csv\n",
      "215178\n",
      "AME_ended_2021-12-10.csv\n",
      "606321\n",
      "AMG_ended_2021-12-10.csv\n",
      "588408\n",
      "AMH^D_ended_2021-12-10.csv\n",
      "43\n",
      "ITS 1!\n",
      "REMOVED!\n",
      "AMH^E_ended_2021-12-10.csv\n",
      "43\n",
      "ITS 1!\n",
      "REMOVED!\n",
      "AMH^F_ended_2021-12-10.csv\n",
      "43\n",
      "ITS 1!\n",
      "REMOVED!\n",
      "AMH^G_ended_2021-12-10.csv\n",
      "43\n",
      "ITS 1!\n",
      "REMOVED!\n",
      "AMH^H_ended_2021-12-10.csv\n",
      "43\n",
      "ITS 1!\n",
      "REMOVED!\n",
      "AMH_ended_2021-12-10.csv\n",
      "231682\n",
      "AMK_ended_2021-12-10.csv\n",
      "65157\n",
      "AM_ended_2021-12-10.csv\n",
      "125788\n"
     ]
    }
   ],
   "source": [
    "mainpath  = './ticker_data/ticker_data_Daily_2021-12-10/'\n",
    "for i in os.listdir(mainpath):\n",
    "    print(i)\n",
    "    print(os.path.getsize(mainpath + i))\n",
    "    if os.path.getsize(mainpath + i) == 43:\n",
    "        print('ITS 1!')\n",
    "        os.remove(mainpath+i)\n",
    "        print('REMOVED!')"
   ]
  },
  {
   "cell_type": "code",
   "execution_count": null,
   "metadata": {},
   "outputs": [],
   "source": []
  },
  {
   "cell_type": "code",
   "execution_count": null,
   "metadata": {},
   "outputs": [],
   "source": []
  },
  {
   "cell_type": "code",
   "execution_count": null,
   "metadata": {},
   "outputs": [],
   "source": []
  }
 ],
 "metadata": {
  "kernelspec": {
   "display_name": "Python 3 (ipykernel)",
   "language": "python",
   "name": "python3"
  },
  "language_info": {
   "codemirror_mode": {
    "name": "ipython",
    "version": 3
   },
   "file_extension": ".py",
   "mimetype": "text/x-python",
   "name": "python",
   "nbconvert_exporter": "python",
   "pygments_lexer": "ipython3",
   "version": "3.9.7"
  }
 },
 "nbformat": 4,
 "nbformat_minor": 4
}
