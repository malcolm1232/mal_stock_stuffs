{
 "cells": [
  {
   "cell_type": "code",
   "execution_count": 2,
   "id": "8e978e50",
   "metadata": {},
   "outputs": [
    {
     "name": "stdout",
     "output_type": "stream",
     "text": [
      "684,711\n"
     ]
    },
    {
     "data": {
      "text/plain": [
       "684711"
      ]
     },
     "execution_count": 2,
     "metadata": {},
     "output_type": "execute_result"
    }
   ],
   "source": [
    "r = 'Rank #1'\n",
    "w = 'On 684,711 watchlists'\n",
    "num = int(w.split('On ')[-1].split(' watchlists')[0].replace(',', ''))\n",
    "print(num)\n",
    "# numint = int(num.replace(',', ''))\n",
    "numint\n"
   ]
  },
  {
   "cell_type": "code",
   "execution_count": 3,
   "id": "46dee9f0",
   "metadata": {},
   "outputs": [],
   "source": [
    "import requests\n",
    "import bs4 as bs\n",
    "url = 'https://coinmarketcap.com/currencies/husd/'\n",
    "resp = requests.get(url)\n",
    "soup = bs.BeautifulSoup(resp.text,'lxml')\n",
    "s"
   ]
  },
  {
   "cell_type": "code",
   "execution_count": 9,
   "id": "3ad91654",
   "metadata": {},
   "outputs": [
    {
     "name": "stdout",
     "output_type": "stream",
     "text": [
      "276311363\n"
     ]
    }
   ],
   "source": [
    "for i in soup.findAll('div', class_ = 'statsValue')[0]:\n",
    "    marketcap = int(i.text.replace(',','').replace('$', ''))\n",
    "    print(marketcap)\n",
    "    "
   ]
  },
  {
   "cell_type": "code",
   "execution_count": null,
   "id": "d470fd19",
   "metadata": {},
   "outputs": [],
   "source": []
  },
  {
   "cell_type": "code",
   "execution_count": null,
   "id": "37af52f7",
   "metadata": {},
   "outputs": [],
   "source": []
  },
  {
   "cell_type": "code",
   "execution_count": null,
   "id": "3a1b2724",
   "metadata": {},
   "outputs": [],
   "source": []
  },
  {
   "cell_type": "code",
   "execution_count": null,
   "id": "489b8937",
   "metadata": {},
   "outputs": [],
   "source": []
  }
 ],
 "metadata": {
  "kernelspec": {
   "display_name": "Python 3 (ipykernel)",
   "language": "python",
   "name": "python3"
  },
  "language_info": {
   "codemirror_mode": {
    "name": "ipython",
    "version": 3
   },
   "file_extension": ".py",
   "mimetype": "text/x-python",
   "name": "python",
   "nbconvert_exporter": "python",
   "pygments_lexer": "ipython3",
   "version": "3.9.7"
  }
 },
 "nbformat": 4,
 "nbformat_minor": 5
}
