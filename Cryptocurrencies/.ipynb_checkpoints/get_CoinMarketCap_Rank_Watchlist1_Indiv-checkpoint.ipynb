{
 "cells": [
  {
   "cell_type": "markdown",
   "id": "f7eb1fc5",
   "metadata": {},
   "source": [
    "# Get Cryptocurrency Number Watchlist from CoinMarketCap"
   ]
  },
  {
   "cell_type": "code",
   "execution_count": 1,
   "id": "e42f23d0",
   "metadata": {},
   "outputs": [],
   "source": [
    "import bs4 as bs\n",
    "import requests"
   ]
  },
  {
   "cell_type": "code",
   "execution_count": 3,
   "id": "c43b93c9",
   "metadata": {},
   "outputs": [],
   "source": [
    "url = 'https://coinmarketcap.com/?page=2'\n",
    "resp = requests.get(url)\n",
    "soup = bs.BeautifulSoup(resp.text, 'lxml')"
   ]
  },
  {
   "cell_type": "code",
   "execution_count": 24,
   "id": "4cbc7e91",
   "metadata": {
    "scrolled": true
   },
   "outputs": [
    {
     "name": "stdout",
     "output_type": "stream",
     "text": [
      "count: 66 , /currencies/xinfin/\n",
      "count: 69 , /currencies/xinfin/?period=7d\n",
      "count: 70 , /currencies/yearn-finance/\n",
      "count: 73 , /currencies/yearn-finance/?period=7d\n",
      "count: 74 , /currencies/zilliqa/\n",
      "count: 77 , /currencies/zilliqa/?period=7d\n",
      "count: 78 , /currencies/bora/\n",
      "count: 81 , /currencies/bora/?period=7d\n",
      "count: 82 , /currencies/sushiswap/\n",
      "count: 85 , /currencies/sushiswap/?period=7d\n",
      "count: 86 , /currencies/0x/\n",
      "count: 89 , /currencies/0x/?period=7d\n",
      "count: 90 , /currencies/bitcoin-gold/\n",
      "count: 93 , /currencies/bitcoin-gold/?period=7d\n",
      "count: 94 , /currencies/renbtc/\n",
      "count: 97 , /currencies/renbtc/?period=7d\n",
      "count: 98 , /currencies/bancor/\n",
      "count: 101 , /currencies/bancor/?period=7d\n",
      "count: 102 , /currencies/revain/\n",
      "count: 105 , /currencies/revain/?period=7d\n",
      "count: 106 , /currencies/ren/\n",
      "count: 107 , /currencies/celsius/\n",
      "count: 108 , /currencies/paxos-standard/\n",
      "count: 109 , /currencies/hive-blockchain/\n",
      "count: 110 , /currencies/secret/\n",
      "count: 111 , /currencies/dogelon/\n",
      "count: 112 , /currencies/nervos-network/\n",
      "count: 113 , /currencies/storj/\n",
      "count: 114 , /currencies/synthetix-network-token/\n",
      "count: 115 , /currencies/velas/\n",
      "count: 116 , /currencies/perpetual-protocol/\n",
      "count: 117 , /currencies/ontology/\n",
      "count: 118 , /currencies/raydium/\n",
      "count: 119 , /currencies/uma/\n",
      "count: 120 , /currencies/skale-network/\n",
      "count: 121 , /currencies/telcoin/\n",
      "count: 122 , /currencies/serum/\n",
      "count: 123 , /currencies/ocean-protocol/\n",
      "count: 124 , /currencies/request/\n",
      "count: 125 , /currencies/golem-network-tokens/\n",
      "count: 126 , /currencies/ceek-vr/\n",
      "count: 127 , /currencies/iostoken/\n",
      "count: 128 , /currencies/dydx/\n",
      "count: 129 , /currencies/kava/\n",
      "count: 130 , /currencies/moonriver/\n",
      "count: 131 , /currencies/digibyte/\n",
      "count: 132 , /currencies/swissborg/\n",
      "count: 133 , /currencies/1inch/\n",
      "count: 134 , /currencies/polymath-network/\n",
      "count: 135 , /currencies/gnosis-gno/\n",
      "count: 136 , /currencies/celer-network/\n",
      "count: 137 , /currencies/wink/\n",
      "count: 138 , /currencies/xyo/\n",
      "count: 139 , /currencies/nucypher/\n",
      "count: 140 , /currencies/myneighboralice/\n",
      "count: 141 , /currencies/reserve-rights/\n",
      "count: 142 , /currencies/wootrade/\n",
      "count: 143 , /currencies/origintrail/\n",
      "count: 144 , /currencies/digitalbits/\n",
      "count: 145 , /currencies/injective-protocol/\n",
      "count: 146 , /currencies/fetch/\n",
      "count: 147 , /currencies/casper/\n",
      "count: 148 , /currencies/gatetoken/\n",
      "count: 149 , /currencies/just/\n",
      "count: 150 , /currencies/neutrino-usd/\n",
      "count: 151 , /currencies/ultra/\n",
      "count: 152 , /currencies/chromia/\n",
      "count: 153 , /currencies/mdex/\n",
      "count: 154 , /currencies/syscoin/\n",
      "count: 155 , /currencies/cartesi/\n",
      "count: 156 , /currencies/dent/\n",
      "count: 157 , /currencies/lisk/\n",
      "count: 158 , /currencies/function-x/\n",
      "count: 159 , /currencies/swipe/\n",
      "count: 160 , /currencies/dvision-network/\n",
      "count: 161 , /currencies/zel/\n",
      "count: 162 , /currencies/alpha-finance-lab/\n",
      "count: 163 , /currencies/medibloc/\n",
      "count: 164 , /currencies/fei-usd/\n",
      "count: 165 , /currencies/coti/\n",
      "count: 166 , /currencies/wazirx/\n",
      "count: 167 , /currencies/reef/\n",
      "count: 168 , /currencies/origin-protocol/\n",
      "count: 169 , /currencies/verge/\n",
      "count: 170 , /currencies/btc-standard-hashrate-token/\n",
      "count: 171 , /currencies/phantasma/\n",
      "count: 172 , /currencies/civic/\n",
      "count: 173 , /currencies/ardor/\n",
      "count: 174 , /currencies/vethor-token/\n",
      "count: 175 , /currencies/nkn/\n",
      "count: 176 , /currencies/status/\n",
      "count: 177 , /currencies/orchid/\n",
      "count: 178 , /currencies/bakerytoken/\n",
      "count: 179 , /currencies/polkastarter/\n",
      "count: 180 , /currencies/mx-token/\n",
      "count: 181 , /currencies/rlc/\n",
      "count: 182 , /currencies/divi/\n",
      "count: 183 , /currencies/bitcoin-diamond/\n",
      "count: 184 , /currencies/conflux-network/\n",
      "count: 185 , /currencies/pax-gold/\n",
      "count: 186 , /currencies/energy-web-token/\n",
      "count: 187 , /currencies/ampleforth/\n",
      "count: 188 , /currencies/stormx/\n",
      "count: 189 , /currencies/badger-dao/\n",
      "count: 190 , /currencies/ontology-gas/\n",
      "count: 191 , /currencies/aelf/\n",
      "count: 192 , /currencies/crypto-com/\n",
      "count: 193 , /currencies/band-protocol/\n",
      "count: 194 , /currencies/power-ledger/\n",
      "count: 195 , /currencies/husd/\n"
     ]
    }
   ],
   "source": [
    "# get /currencies/btc \n",
    "count = 0\n",
    "cryp_list = []\n",
    "for i in soup.findAll('a', class_ = \"cmc-link\"):\n",
    "    href_primary = i.get('href')\n",
    "    href_sec = href_primary.split('/')[1]\n",
    "    if href_sec == \"currencies\":\n",
    "#         print('count: {} , {}' .format(count,href_primary))\n",
    "        if len(href_primary.split('/')) == 4:\n",
    "            print('count: {} , {}' .format(count,href_primary))\n",
    "            cryptocurrency_ticker = href_primary.split('/')[2]\n",
    "            if cryptocurrency_ticker not in cryp_list:\n",
    "                cryp_list.append(cryptocurrency_ticker) \n",
    "    count+=1"
   ]
  },
  {
   "cell_type": "code",
   "execution_count": 25,
   "id": "2241960c",
   "metadata": {
    "scrolled": true
   },
   "outputs": [
    {
     "data": {
      "text/plain": [
       "['xinfin',\n",
       " 'yearn-finance',\n",
       " 'zilliqa',\n",
       " 'bora',\n",
       " 'sushiswap',\n",
       " '0x',\n",
       " 'bitcoin-gold',\n",
       " 'renbtc',\n",
       " 'bancor',\n",
       " 'revain',\n",
       " 'ren',\n",
       " 'celsius',\n",
       " 'paxos-standard',\n",
       " 'hive-blockchain',\n",
       " 'secret',\n",
       " 'dogelon',\n",
       " 'nervos-network',\n",
       " 'storj',\n",
       " 'synthetix-network-token',\n",
       " 'velas',\n",
       " 'perpetual-protocol',\n",
       " 'ontology',\n",
       " 'raydium',\n",
       " 'uma',\n",
       " 'skale-network',\n",
       " 'telcoin',\n",
       " 'serum',\n",
       " 'ocean-protocol',\n",
       " 'request',\n",
       " 'golem-network-tokens',\n",
       " 'ceek-vr',\n",
       " 'iostoken',\n",
       " 'dydx',\n",
       " 'kava',\n",
       " 'moonriver',\n",
       " 'digibyte',\n",
       " 'swissborg',\n",
       " '1inch',\n",
       " 'polymath-network',\n",
       " 'gnosis-gno',\n",
       " 'celer-network',\n",
       " 'wink',\n",
       " 'xyo',\n",
       " 'nucypher',\n",
       " 'myneighboralice',\n",
       " 'reserve-rights',\n",
       " 'wootrade',\n",
       " 'origintrail',\n",
       " 'digitalbits',\n",
       " 'injective-protocol',\n",
       " 'fetch',\n",
       " 'casper',\n",
       " 'gatetoken',\n",
       " 'just',\n",
       " 'neutrino-usd',\n",
       " 'ultra',\n",
       " 'chromia',\n",
       " 'mdex',\n",
       " 'syscoin',\n",
       " 'cartesi',\n",
       " 'dent',\n",
       " 'lisk',\n",
       " 'function-x',\n",
       " 'swipe',\n",
       " 'dvision-network',\n",
       " 'zel',\n",
       " 'alpha-finance-lab',\n",
       " 'medibloc',\n",
       " 'fei-usd',\n",
       " 'coti',\n",
       " 'wazirx',\n",
       " 'reef',\n",
       " 'origin-protocol',\n",
       " 'verge',\n",
       " 'btc-standard-hashrate-token',\n",
       " 'phantasma',\n",
       " 'civic',\n",
       " 'ardor',\n",
       " 'vethor-token',\n",
       " 'nkn',\n",
       " 'status',\n",
       " 'orchid',\n",
       " 'bakerytoken',\n",
       " 'polkastarter',\n",
       " 'mx-token',\n",
       " 'rlc',\n",
       " 'divi',\n",
       " 'bitcoin-diamond',\n",
       " 'conflux-network',\n",
       " 'pax-gold',\n",
       " 'energy-web-token',\n",
       " 'ampleforth',\n",
       " 'stormx',\n",
       " 'badger-dao',\n",
       " 'ontology-gas',\n",
       " 'aelf',\n",
       " 'crypto-com',\n",
       " 'band-protocol',\n",
       " 'power-ledger',\n",
       " 'husd']"
      ]
     },
     "execution_count": 25,
     "metadata": {},
     "output_type": "execute_result"
    }
   ],
   "source": [
    "cryp_list"
   ]
  },
  {
   "cell_type": "code",
   "execution_count": 27,
   "id": "48cefdb6",
   "metadata": {},
   "outputs": [
    {
     "data": {
      "text/plain": [
       "'https://coinmarketcap.com/currencies/xinfin'"
      ]
     },
     "execution_count": 27,
     "metadata": {},
     "output_type": "execute_result"
    }
   ],
   "source": [
    "# get temp_url\n",
    "mainurl = 'https://coinmarketcap.com/'\n",
    "mainurl_1 = 'currencies'\n",
    "temp_cryp = cryp_list[0]\n",
    "temp_url = mainurl + mainurl_1 + '/' + temp_cryp\n",
    "temp_url\n"
   ]
  },
  {
   "cell_type": "code",
   "execution_count": 37,
   "id": "e1a5ce27",
   "metadata": {},
   "outputs": [],
   "source": [
    "# get \n",
    "temp_resp = requests.get(temp_url)\n",
    "temp_soup = bs.BeautifulSoup(temp_resp.text, 'lxml')\n",
    "temp_soup\n",
    "\n",
    "rank_list = []\n",
    "watchlist_list = []\n",
    "for i in temp_soup.findAll('div', class_= 'namePill'):\n",
    "    if 'Rank #' in i.text:\n",
    "        rank_list.append(i.text)\n",
    "    if 'watchlists' in i.text:\n",
    "        watchlist_list.append(i.text)    "
   ]
  },
  {
   "cell_type": "code",
   "execution_count": 38,
   "id": "daefdf56",
   "metadata": {},
   "outputs": [
    {
     "data": {
      "text/plain": [
       "['Rank #101']"
      ]
     },
     "execution_count": 38,
     "metadata": {},
     "output_type": "execute_result"
    }
   ],
   "source": [
    "rank_list"
   ]
  },
  {
   "cell_type": "code",
   "execution_count": 39,
   "id": "b701855f",
   "metadata": {},
   "outputs": [
    {
     "data": {
      "text/plain": [
       "['On 96,490 watchlists']"
      ]
     },
     "execution_count": 39,
     "metadata": {},
     "output_type": "execute_result"
    }
   ],
   "source": [
    "watchlist_list"
   ]
  },
  {
   "cell_type": "code",
   "execution_count": null,
   "id": "50cdccf4",
   "metadata": {},
   "outputs": [],
   "source": []
  },
  {
   "cell_type": "code",
   "execution_count": null,
   "id": "ea165b1f",
   "metadata": {},
   "outputs": [],
   "source": []
  },
  {
   "cell_type": "code",
   "execution_count": null,
   "id": "c422c2a5",
   "metadata": {},
   "outputs": [],
   "source": []
  }
 ],
 "metadata": {
  "kernelspec": {
   "display_name": "Python 3 (ipykernel)",
   "language": "python",
   "name": "python3"
  },
  "language_info": {
   "codemirror_mode": {
    "name": "ipython",
    "version": 3
   },
   "file_extension": ".py",
   "mimetype": "text/x-python",
   "name": "python",
   "nbconvert_exporter": "python",
   "pygments_lexer": "ipython3",
   "version": "3.9.7"
  }
 },
 "nbformat": 4,
 "nbformat_minor": 5
}
